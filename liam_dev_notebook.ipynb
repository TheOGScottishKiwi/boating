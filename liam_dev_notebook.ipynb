{
 "metadata": {
  "language_info": {
   "codemirror_mode": {
    "name": "ipython",
    "version": 3
   },
   "file_extension": ".py",
   "mimetype": "text/x-python",
   "name": "python",
   "nbconvert_exporter": "python",
   "pygments_lexer": "ipython3",
   "version": "3.7.9-final"
  },
  "orig_nbformat": 2,
  "kernelspec": {
   "name": "python3",
   "display_name": "Python 3.7.9 64-bit ('proofing2': conda)"
  },
  "interpreter": {
   "hash": "4e8128d6590300a1fd54a2da6db67d43c4d0429b1aad4923496580d081725014"
  }
 },
 "nbformat": 4,
 "nbformat_minor": 2,
 "cells": [
  {
   "cell_type": "code",
   "execution_count": 1,
   "metadata": {},
   "outputs": [],
   "source": [
    "import pandas as pd\n",
    "import os \n",
    "import sys\n",
    "import numpy as np\n",
    "import cv2\n",
    "from PIL import Image\n",
    "import re"
   ]
  },
  {
   "cell_type": "code",
   "execution_count": 2,
   "metadata": {},
   "outputs": [],
   "source": [
    "import MasterFunctions as mf\n",
    "from letter_text_extraction import letter_text_extraction"
   ]
  },
  {
   "cell_type": "code",
   "execution_count": 3,
   "metadata": {},
   "outputs": [],
   "source": [
    "# prj_path = str(os.getcwd())+'\\\\'\n",
    "# letters_location =  'Z:/Proofing_Project/example_letters/'\n",
    "# arg = 'Letter_RMR/'\n",
    "# # file_name = '210442-155654G-LFDQ_PREPAY_PROOF_Batch_002_PROOFS.P001.PDF'\n",
    "# file_name = '210442-155654G-LFDQ_PREPAY_PROOF_Batch_001_PROOFS.P001.PDF'\n",
    "# # file_name = '210442-155654G-RNNC_SVT_PROOF_Batch_002_PROOFS.P001.PDF'\n",
    "# # file_name = '210442-155654G-RNNC_SVT_PROOF_Batch_001_PROOFS.P001.PDF'\n",
    "\n",
    "# letter_num = 1\n",
    "# # letter_num = 4\n",
    "# # letter_num = 7"
   ]
  },
  {
   "cell_type": "code",
   "execution_count": 4,
   "metadata": {},
   "outputs": [],
   "source": [
    "from PriceChangeTable import lookup_cell_formatting\n",
    "\n",
    "prj_path = str(os.getcwd())+'\\\\'\n",
    "# look_table = 'LookUps.xlsx'\n",
    "look_table = 'lookup_tables/lookup_book.xlsx'\n",
    "lookups = pd.read_excel(prj_path+look_table, sheet_name=None, engine='openpyxl')\n",
    "letter_type_lookup = lookups['letter_type']\n",
    "e_pricing_lookup = lookups[\"e_pricing_style_lookup\"]\n",
    "for col in lookups[\"e_pricing_style_lookup\"]:\n",
    "    lookups[\"e_pricing_style_lookup\"][col] = lookups[\"e_pricing_style_lookup\"].apply(\n",
    "        lambda x: lookup_cell_formatting(x[col]), axis=1\n",
    "    )"
   ]
  },
  {
   "cell_type": "code",
   "execution_count": 5,
   "metadata": {},
   "outputs": [],
   "source": [
    "# split_letters = proofing_pdf_letter_splitter(letters_location,file_name)"
   ]
  },
  {
   "cell_type": "code",
   "execution_count": 6,
   "metadata": {},
   "outputs": [],
   "source": [
    "# letter = split_letters[letter_num]"
   ]
  },
  {
   "cell_type": "code",
   "execution_count": 7,
   "metadata": {},
   "outputs": [],
   "source": [
    "# letter_type = letter_type_determination(letter, letter_type_lookup)\n",
    "# letter_type"
   ]
  },
  {
   "cell_type": "code",
   "execution_count": 8,
   "metadata": {},
   "outputs": [],
   "source": [
    "# letter_text = RMR_letter_text_extraction(letter)\n",
    "# letter_text = NonRMR_letter_text_extraction(letter)\n",
    "# letter_text, fuel_type, images = letter_text_extraction(letter, letter_type)"
   ]
  },
  {
   "cell_type": "code",
   "execution_count": 9,
   "metadata": {},
   "outputs": [],
   "source": [
    "# letter_text"
   ]
  },
  {
   "cell_type": "code",
   "execution_count": 10,
   "metadata": {},
   "outputs": [],
   "source": [
    "text_extract = pd.read_csv(\"letters_text.csv\")\n",
    "# text_extract"
   ]
  },
  {
   "cell_type": "code",
   "execution_count": 11,
   "metadata": {},
   "outputs": [],
   "source": [
    "pp_df = pd.read_csv('Z:/Proofing_Project/example_letters/PP_datafile.csv', dtype=str)\n",
    "pp_df = pp_df.where(pd.notnull(pp_df), None)\n",
    "svt_df = pd.read_csv('Z:/Proofing_Project/example_letters/SVT_datafile.csv', dtype=str)\n",
    "svt_df = svt_df.where(pd.notnull(svt_df), None)\n",
    "whd_df = pd.read_csv('Z:/Proofing_Project/example_letters/WHD_datafile.csv', dtype=str)\n",
    "whd_df = whd_df.where(pd.notnull(whd_df), None)\n",
    "\n",
    "masterfile_selection = {'PP_RMR':pp_df, 'PP_NonRMR':pp_df, 'SVT_RMR':svt_df, 'SVT_NonRMR':svt_df, 'WHD_RMR':whd_df, 'WHD_NonRMR':whd_df}"
   ]
  },
  {
   "cell_type": "code",
   "execution_count": 12,
   "metadata": {},
   "outputs": [
    {
     "output_type": "execute_result",
     "data": {
      "text/plain": [
       "0      {'ELEC_CONTRACT_ACCOUNT_NO': '016001432811', '...\n",
       "1      {'ELEC_CONTRACT_ACCOUNT_NO': '016098324573', '...\n",
       "2      {'ELEC_CONTRACT_ACCOUNT_NO': None, 'GAS_CONTRA...\n",
       "3      {'ELEC_CONTRACT_ACCOUNT_NO': '016108490005', '...\n",
       "4      {'ELEC_CONTRACT_ACCOUNT_NO': None, 'GAS_CONTRA...\n",
       "                             ...                        \n",
       "195    {'ELEC_CONTRACT_ACCOUNT_NO': '063272882013', '...\n",
       "196    {'ELEC_CONTRACT_ACCOUNT_NO': '060369004014', '...\n",
       "197    {'ELEC_CONTRACT_ACCOUNT_NO': '088776221018', '...\n",
       "198    {'ELEC_CONTRACT_ACCOUNT_NO': '016017393022', '...\n",
       "199    {'ELEC_CONTRACT_ACCOUNT_NO': '007678497011', '...\n",
       "Name: account_nums, Length: 200, dtype: object"
      ]
     },
     "metadata": {},
     "execution_count": 12
    }
   ],
   "source": [
    "from letter_extract_functions import account_numbers_extract\n",
    "\n",
    "text_extract['account_nums'] = text_extract.apply(lambda x: account_numbers_extract(x['acc_dets'], masterfile_selection[x['letter_type']]), axis=1)\n",
    "\n",
    "text_extract['account_nums']"
   ]
  },
  {
   "cell_type": "code",
   "execution_count": 13,
   "metadata": {},
   "outputs": [],
   "source": [
    "text_extract['masterfile_row'] = text_extract.apply(lambda x: mf.get_master_info(masterfile_selection[x['letter_type']], x['account_nums']), axis=1)"
   ]
  },
  {
   "cell_type": "code",
   "execution_count": 14,
   "metadata": {},
   "outputs": [],
   "source": [
    "from letter_extract_functions import *\n",
    "from letter_format_functions import *\n",
    "from letter_comparison_functions import *\n",
    "from letter_field_functions import *"
   ]
  },
  {
   "cell_type": "code",
   "execution_count": 15,
   "metadata": {},
   "outputs": [
    {
     "output_type": "execute_result",
     "data": {
      "text/plain": [
       "fuel_type                                                         E\n",
       "letter_type                                                  PP_RMR\n",
       "page_1            ST_N_ST_001_CS_BMW 1\\r\\n\\r\\n \\r\\n\\r\\nq\\r\\ni\\r\\...\n",
       "page_2            ST_N_ST_001_CS_ BMW 1\\r\\nHow the price cap aff...\n",
       "page_3            ST_N_ST_001_CS_BMW 1\\r\\n\\r\\nChanging your tari...\n",
       "acc_dets           \\r\\n\\r\\nYour account details\\r\\n\\r\\n \\r\\n\\r\\n...\n",
       "fuel_types                                         Electricity\\r\\n\n",
       "\n",
       "new_prices        Current prices until New prices from\\r\\n31st M...\n",
       "eac               Current annual cost\\r\\n\\r\\nNew annual cost\\r\\n...\n",
       "ayt               Tariff name\\r\\nTariff type\\r\\nPayment method\\r...\n",
       "account_nums      {'ELEC_CONTRACT_ACCOUNT_NO': '016001432811', '...\n",
       "masterfile_row      ELEC_CONTRACT_ACCOUNT_NO GAS_CONTRACT_ACCOUN...\n",
       "Name: 0, dtype: object"
      ]
     },
     "metadata": {},
     "execution_count": 15
    }
   ],
   "source": [
    "tahi = text_extract.loc[0]\n",
    "tahi"
   ]
  },
  {
   "cell_type": "code",
   "execution_count": 16,
   "metadata": {},
   "outputs": [],
   "source": [
    "from letter_type_wrappers import letter_analysis\n",
    "\n",
    "analysis = letter_analysis(tahi, tahi['masterfile_row'], lookups)"
   ]
  },
  {
   "cell_type": "code",
   "execution_count": 35,
   "metadata": {},
   "outputs": [
    {
     "output_type": "execute_result",
     "data": {
      "text/plain": [
       "{'ACCOUNT_NAME_F': None,\n",
       " 'DECEASED_FLAG_F': None,\n",
       " 'BILLING_ADDRESS_FLAT': None,\n",
       " 'BILLING_ADDRESS_1': None,\n",
       " 'BILLING_ADDRESS_2': None,\n",
       " 'BILLING_ADDRESS_3': None,\n",
       " 'BILLING_ADDRESS_4': None,\n",
       " 'BILLING_ADDRESS_5': None,\n",
       " 'BILLING_ADDRESS_6': None,\n",
       " 'BILLING_ADDRESS_7': None,\n",
       " 'BILLING_ADDRESS_8': None,\n",
       " 'BILLING_POSTCODE': None,\n",
       " 'SUPPLY_ADDRESS_1': None,\n",
       " 'SUPPLY_ADDRESS_2': None,\n",
       " 'SUPPLY_ADDRESS_3': None,\n",
       " 'SUPPLY_ADDRESS_4': None,\n",
       " 'SUPPLY_ADDRESS_5': None,\n",
       " 'SUPPLY_ADDRESS_6': None,\n",
       " 'SUPPLY_ADDRESS_7': None,\n",
       " 'SUPPLY_ADDRESS_8': None,\n",
       " 'SUPPLY_POSTCODE': None,\n",
       " 'ELE_PCK_PRE_VAL_SVC_VIN': None,\n",
       " 'ELE_PCK_PRE_VAL_PRY_VIN': None,\n",
       " 'ELE_PCK_PRE_VAL_SDY_VIN': None,\n",
       " 'ELE_PCK_PRE_VAL_DAY_VIN': None,\n",
       " 'ELE_PCK_PRE_VAL_NGT_VIN': None,\n",
       " 'ELE_PCK_PRE_VAL_NRM_VIN': None,\n",
       " 'ELE_PCK_PRE_VAL_CTL_VIN': None,\n",
       " 'ELE_PCK_PRE_VAL_PEA_VIN': None,\n",
       " 'ELE_PCK_PRE_VAL_OFF_VIN': None,\n",
       " 'ELE_PCK_POS_VAL_SVC_VIN': None,\n",
       " 'ELE_PCK_POS_VAL_PRY_VIN': None,\n",
       " 'ELE_PCK_POS_VAL_SDY_VIN': None,\n",
       " 'ELE_PCK_POS_VAL_DAY_VIN': None,\n",
       " 'ELE_PCK_POS_VAL_NGT_VIN': None,\n",
       " 'ELE_PCK_POS_VAL_NRM_VIN': None,\n",
       " 'ELE_PCK_POS_VAL_CTL_VIN': None,\n",
       " 'ELE_PCK_POS_VAL_PEA_VIN': None,\n",
       " 'ELE_PCK_POS_VAL_OFF_VIN': None,\n",
       " 'GAS_PCK_PRE_VAL_SVC_VIN': None,\n",
       " 'GAS_PCK_PRE_VAL_PRY_VIN': None,\n",
       " 'GAS_PCK_PRE_VAL_SDY_VIN': None,\n",
       " 'GAS_PCK_PRE_VAL_DAY_VIN': None,\n",
       " 'GAS_PCK_PRE_VAL_NGT_VIN': None,\n",
       " 'GAS_PCK_PRE_VAL_NRM_VIN': None,\n",
       " 'GAS_PCK_PRE_VAL_CTL_VIN': None,\n",
       " 'GAS_PCK_PRE_VAL_PEA_VIN': None,\n",
       " 'GAS_PCK_PRE_VAL_OFF_VIN': None,\n",
       " 'GAS_PCK_POS_VAL_SVC_VIN': None,\n",
       " 'GAS_PCK_POS_VAL_PRY_VIN': None,\n",
       " 'GAS_PCK_POS_VAL_SDY_VIN': None,\n",
       " 'GAS_PCK_POS_VAL_DAY_VIN': None,\n",
       " 'GAS_PCK_POS_VAL_NGT_VIN': None,\n",
       " 'GAS_PCK_POS_VAL_NRM_VIN': None,\n",
       " 'GAS_PCK_POS_VAL_CTL_VIN': None,\n",
       " 'GAS_PCK_POS_VAL_PEA_VIN': None,\n",
       " 'GAS_PCK_POS_VAL_OFF_VIN': None,\n",
       " 'E_PRICE_KEY_POP_GROUP': None,\n",
       " 'GAS_POST_PRE_DIFF_A_CAT': None,\n",
       " 'PP_VALUE_G': None,\n",
       " 'ELEC_POST_PRE_DIFF_A_CAT': None,\n",
       " 'PP_VALUE_E': None,\n",
       " 'PP_CAT_COPY': {'Master': 'PP_PAYG_Para_23',\n",
       "  'Extracted': \"['PP_PAYG_Para_9', 'PP_SVT_Para_9']\"}}"
      ]
     },
     "metadata": {},
     "execution_count": 35
    }
   ],
   "source": [
    "analysis"
   ]
  },
  {
   "cell_type": "code",
   "execution_count": null,
   "metadata": {},
   "outputs": [],
   "source": []
  }
 ]
}